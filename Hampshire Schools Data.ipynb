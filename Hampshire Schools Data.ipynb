{
 "cells": [
  {
   "cell_type": "markdown",
   "metadata": {},
   "source": [
    "Hampshire Schools Data\n",
    "-------------------------\n",
    "\n",
    "Shows capacity data for schools in Hampshire, Southampton and Portsmouth.\n",
    "\n",
    "Dependencies:\n",
    "* Numpy (pip install numpy) (Hint: remove distro-provided version...)\n",
    "* Panda (pip install panda)\n",
    "* ipyleaflet (pip install ipyleaflet)\n",
    "* convertbng (pip install convertbng)"
   ]
  },
  {
   "cell_type": "code",
   "execution_count": 7,
   "metadata": {},
   "outputs": [],
   "source": [
    "import pandas as pd\n",
    "import numpy as np"
   ]
  },
  {
   "cell_type": "code",
   "execution_count": 8,
   "metadata": {
    "scrolled": true
   },
   "outputs": [
    {
     "data": {
      "text/plain": [
       "array(['URN', 'LA (code)', 'LA (name)', 'EstablishmentNumber',\n",
       "       'EstablishmentName', 'TypeOfEstablishment (name)',\n",
       "       'EstablishmentTypeGroup (name)', 'EstablishmentStatus (name)',\n",
       "       'ReasonEstablishmentOpened (name)', 'OpenDate',\n",
       "       'ReasonEstablishmentClosed (name)', 'CloseDate',\n",
       "       'PhaseOfEducation (name)', 'StatutoryLowAge', 'StatutoryHighAge',\n",
       "       'Boarders (name)', 'NurseryProvision (name)',\n",
       "       'OfficialSixthForm (name)', 'Gender (name)',\n",
       "       'ReligiousCharacter (name)', 'ReligiousEthos (name)',\n",
       "       'Diocese (name)', 'AdmissionsPolicy (name)', 'SchoolCapacity',\n",
       "       'SpecialClasses (name)', 'CensusDate', 'NumberOfPupils',\n",
       "       'NumberOfBoys', 'NumberOfGirls', 'PercentageFSM',\n",
       "       'TrustSchoolFlag (name)', 'Trusts (name)',\n",
       "       'SchoolSponsorFlag (name)', 'SchoolSponsors (name)',\n",
       "       'FederationFlag (name)', 'Federations (name)', 'UKPRN',\n",
       "       'FEHEIdentifier', 'FurtherEducationType (name)', 'OfstedLastInsp',\n",
       "       'Street', 'Locality', 'Address3', 'Town', 'County (name)',\n",
       "       'Postcode', 'SchoolWebsite', 'TelephoneNum', 'HeadTitle (name)',\n",
       "       'HeadFirstName', 'HeadLastName', 'HeadPreferredJobTitle',\n",
       "       'InspectorateName (name)', 'InspectorateReport',\n",
       "       'DateOfLastInspectionVisit', 'NextInspectionVisit',\n",
       "       'TeenMoth (name)', 'TeenMothPlaces', 'CCF (name)', 'SENPRU (name)',\n",
       "       'EBD (name)', 'PlacesPRU', 'FTProv (name)', 'EdByOther (name)',\n",
       "       'Section41Approved (name)', 'SEN1 (name)', 'SEN2 (name)',\n",
       "       'SEN3 (name)', 'SEN4 (name)', 'SEN5 (name)', 'SEN6 (name)',\n",
       "       'SEN7 (name)', 'SEN8 (name)', 'SEN9 (name)', 'SEN10 (name)',\n",
       "       'SEN11 (name)', 'SEN12 (name)', 'SEN13 (name)',\n",
       "       'TypeOfResourcedProvision (name)', 'ResourcedProvisionOnRoll',\n",
       "       'ResourcedProvisionCapacity', 'SenUnitOnRoll', 'SenUnitCapacity',\n",
       "       'GOR (name)', 'DistrictAdministrative (name)',\n",
       "       'AdministrativeWard (name)', 'ParliamentaryConstituency (name)',\n",
       "       'UrbanRural (name)', 'GSSLACode (name)', 'Easting', 'Northing',\n",
       "       'CensusAreaStatisticWard (name)', 'MSOA (name)', 'LSOA (name)',\n",
       "       'Inspectorate (name)', 'SENStat', 'SENNoStat', 'PropsName',\n",
       "       'OfstedRating (name)', 'RSCRegion (name)', 'Country (name)',\n",
       "       'UPRN', 'SiteName', 'MSOA (code)', 'LSOA (code)'], dtype=object)"
      ]
     },
     "metadata": {},
     "output_type": "display_data"
    }
   ],
   "source": [
    "# Load some data\n",
    "d_sch = pd.read_csv('hampshire_schools_dec2018.csv', quotechar='\"');\n",
    "#display(d_sch); # Prints the whole data table\n",
    "display(d_sch.columns.values) # Prints column names\n",
    "\n",
    "d_sch = d_sch[np.isfinite(d_sch['SchoolCapacity'])] # Filter to include only schools with capacity data\n",
    "d_sch = d_sch[np.isfinite(d_sch['NumberOfPupils'])]\n"
   ]
  },
  {
   "cell_type": "code",
   "execution_count": 9,
   "metadata": {},
   "outputs": [],
   "source": [
    "d_sch['Utilisation'] = d_sch.NumberOfPupils / d_sch.SchoolCapacity;\n",
    "d_sch['FreePlaces'] = d_sch['SchoolCapacity'] - d_sch['NumberOfPupils'];\n",
    "\n",
    "#display(d_sch);"
   ]
  },
  {
   "cell_type": "code",
   "execution_count": 14,
   "metadata": {
    "scrolled": true,
    "slideshow": {
     "slide_type": "slide"
    }
   },
   "outputs": [
    {
     "data": {
      "application/vnd.jupyter.widget-view+json": {
       "model_id": "002b18c891ab4178a2903d1d169374cf",
       "version_major": 2,
       "version_minor": 0
      },
      "text/plain": [
       "Map(basemap={'attribution': 'Map data (c) <a href=\"https://openstreetmap.org\">OpenStreetMap</a> contributors',…"
      ]
     },
     "metadata": {},
     "output_type": "display_data"
    }
   ],
   "source": [
    "from ipyleaflet import Map, Marker, CircleMarker, Popup, basemaps, basemap_to_tiles\n",
    "from ipywidgets import HTML\n",
    "from convertbng.util import convert_lonlat\n",
    "\n",
    "# You need to: `jupyter nbextension enable --py --sys-prefix ipyleaflet`\n",
    "# after installing ipyleaflet...\n",
    "\n",
    "c = (50.970700, -1.351545) # Eastleigh House\n",
    "\n",
    "m = Map(\n",
    "    center=c,\n",
    "    zoom=12,\n",
    "    dragging=True\n",
    ")\n",
    "\n",
    "\n",
    "def genInfo(school):\n",
    "    i = HTML()\n",
    "    i.value = \"<strong>\" + row.loc['EstablishmentName'] + \"</strong><br /><table>\" + \\\n",
    "    \"<tr><td>Phase:</td><td>\" + row.loc['PhaseOfEducation (name)'] + \" \" + str(int(row.loc['StatutoryLowAge'])) + '-' + str(int(row.loc['StatutoryHighAge'])) + \"</td></tr>\" + \\\n",
    "    \"<tr><td>Nominal Capacity:</td><td>\" + str(int(row.loc['SchoolCapacity'])) + \"</td></tr>\" + \\\n",
    "    \"<tr><td>Current Pupils:</td><td>\" + str(int(row.loc['NumberOfPupils'])) + \"</td></tr>\" + \\\n",
    "    \"<tr style=\\\"border-top: 1px solid #444;\\\"><td>Free Places:</td><td>\" + str(int(row.loc['FreePlaces'])) + \"</td></tr>\"\n",
    "    \"</table>\"\n",
    "    \n",
    "    return i\n",
    "\n",
    "def pccolour(util):\n",
    "    \n",
    "    if(util < 0.95):\n",
    "        return '#9bf442';\n",
    "    if(util <= 1):\n",
    "        return '#f4d742';\n",
    "    if(util < 1.05):\n",
    "        return '#f4ad42';\n",
    "    else:\n",
    "        return '#f45c42';\n",
    "\n",
    "\n",
    "for index, row in d_sch.iterrows():\n",
    "    lon, lat = convert_lonlat([row.loc['Easting']], [row.loc['Northing']])\n",
    "    loc = (lat[0], lon[0])\n",
    "    marker = CircleMarker(location=loc, radius=4)\n",
    "    marker.color = pccolour(row.loc['Utilisation']);\n",
    "    m.add_layer(marker)\n",
    "    \n",
    "    # Create info popup\n",
    "    message = genInfo(row)\n",
    "    marker.popup = message\n",
    "\n",
    "\n",
    "m"
   ]
  },
  {
   "cell_type": "code",
   "execution_count": null,
   "metadata": {},
   "outputs": [],
   "source": []
  },
  {
   "cell_type": "code",
   "execution_count": null,
   "metadata": {},
   "outputs": [],
   "source": []
  }
 ],
 "metadata": {
  "kernelspec": {
   "display_name": "Python 3.4",
   "language": "python",
   "name": "python_3.4"
  },
  "language_info": {
   "codemirror_mode": {
    "name": "ipython",
    "version": 3
   },
   "file_extension": ".py",
   "mimetype": "text/x-python",
   "name": "python",
   "nbconvert_exporter": "python",
   "pygments_lexer": "ipython3",
   "version": "3.4.6"
  }
 },
 "nbformat": 4,
 "nbformat_minor": 2
}
